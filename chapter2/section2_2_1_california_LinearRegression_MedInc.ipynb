{
 "cells": [
  {
   "cell_type": "markdown",
   "metadata": {
    "id": "8Nts97RYEK8i"
   },
   "source": [
    "# 単回帰（特徴量：MedInc）の予測値の可視化"
   ]
  },
  {
   "cell_type": "code",
   "execution_count": 1,
   "metadata": {
    "id": "oZ4_zmRNwFpc"
   },
   "outputs": [],
   "source": [
    "# # Colabでバージョンを変更するとき、コメントアウトして実行してください\n",
    "# !pip install pandas==1.5.3\n",
    "# !pip install numpy==1.22.4\n",
    "# !pip install matplotlib==3.7.1\n",
    "# !pip install scikit-learn==1.2.2"
   ]
  },
  {
   "cell_type": "code",
   "execution_count": 2,
   "metadata": {
    "id": "H3ZPVmgmMGHg"
   },
   "outputs": [],
   "source": [
    "# ライブラリのインポート\n",
    "%matplotlib inline\n",
    "import pandas as pd\n",
    "import numpy as np\n",
    "import matplotlib.pyplot as plt\n",
    "from sklearn.datasets import fetch_california_housing"
   ]
  },
  {
   "cell_type": "code",
   "execution_count": 3,
   "metadata": {
    "colab": {
     "base_uri": "https://localhost:8080/"
    },
    "executionInfo": {
     "elapsed": 4,
     "status": "ok",
     "timestamp": 1685443279664,
     "user": {
      "displayName": "毛利拓也",
      "userId": "17854120745961292401"
     },
     "user_tz": -540
    },
    "id": "3zLlfc1IwZ0a",
    "outputId": "5d73e70d-548d-415d-ce99-9d11236b37e9"
   },
   "outputs": [
    {
     "name": "stdout",
     "output_type": "stream",
     "text": [
      "1.5.3\n",
      "1.22.4\n",
      "3.7.1\n",
      "1.2.2\n"
     ]
    }
   ],
   "source": [
    "# バージョンの確認\n",
    "import matplotlib\n",
    "import sklearn\n",
    "print(pd.__version__) \n",
    "print(np.__version__)\n",
    "print(matplotlib.__version__)\n",
    "print(sklearn.__version__) "
   ]
  },
  {
   "cell_type": "code",
   "execution_count": 4,
   "metadata": {
    "colab": {
     "base_uri": "https://localhost:8080/",
     "height": 206
    },
    "executionInfo": {
     "elapsed": 1609,
     "status": "ok",
     "timestamp": 1685443302023,
     "user": {
      "displayName": "毛利拓也",
      "userId": "17854120745961292401"
     },
     "user_tz": -540
    },
    "id": "U5DzjHXlZ6YJ",
    "outputId": "23744a18-a57f-4d8d-dc71-aa56528a0b38"
   },
   "outputs": [
    {
     "data": {
      "text/html": [
       "<div>\n",
       "<style scoped>\n",
       "    .dataframe tbody tr th:only-of-type {\n",
       "        vertical-align: middle;\n",
       "    }\n",
       "\n",
       "    .dataframe tbody tr th {\n",
       "        vertical-align: top;\n",
       "    }\n",
       "\n",
       "    .dataframe thead th {\n",
       "        text-align: right;\n",
       "    }\n",
       "</style>\n",
       "<table border=\"1\" class=\"dataframe\">\n",
       "  <thead>\n",
       "    <tr style=\"text-align: right;\">\n",
       "      <th></th>\n",
       "      <th>MedInc</th>\n",
       "      <th>HouseAge</th>\n",
       "      <th>AveRooms</th>\n",
       "      <th>AveBedrms</th>\n",
       "      <th>Population</th>\n",
       "      <th>AveOccup</th>\n",
       "      <th>Latitude</th>\n",
       "      <th>Longitude</th>\n",
       "      <th>MedHouseVal</th>\n",
       "    </tr>\n",
       "  </thead>\n",
       "  <tbody>\n",
       "    <tr>\n",
       "      <th>0</th>\n",
       "      <td>8.3252</td>\n",
       "      <td>41.0</td>\n",
       "      <td>6.984127</td>\n",
       "      <td>1.023810</td>\n",
       "      <td>322.0</td>\n",
       "      <td>2.555556</td>\n",
       "      <td>37.88</td>\n",
       "      <td>-122.23</td>\n",
       "      <td>4.526</td>\n",
       "    </tr>\n",
       "    <tr>\n",
       "      <th>1</th>\n",
       "      <td>8.3014</td>\n",
       "      <td>21.0</td>\n",
       "      <td>6.238137</td>\n",
       "      <td>0.971880</td>\n",
       "      <td>2401.0</td>\n",
       "      <td>2.109842</td>\n",
       "      <td>37.86</td>\n",
       "      <td>-122.22</td>\n",
       "      <td>3.585</td>\n",
       "    </tr>\n",
       "    <tr>\n",
       "      <th>2</th>\n",
       "      <td>7.2574</td>\n",
       "      <td>52.0</td>\n",
       "      <td>8.288136</td>\n",
       "      <td>1.073446</td>\n",
       "      <td>496.0</td>\n",
       "      <td>2.802260</td>\n",
       "      <td>37.85</td>\n",
       "      <td>-122.24</td>\n",
       "      <td>3.521</td>\n",
       "    </tr>\n",
       "    <tr>\n",
       "      <th>3</th>\n",
       "      <td>5.6431</td>\n",
       "      <td>52.0</td>\n",
       "      <td>5.817352</td>\n",
       "      <td>1.073059</td>\n",
       "      <td>558.0</td>\n",
       "      <td>2.547945</td>\n",
       "      <td>37.85</td>\n",
       "      <td>-122.25</td>\n",
       "      <td>3.413</td>\n",
       "    </tr>\n",
       "    <tr>\n",
       "      <th>4</th>\n",
       "      <td>3.8462</td>\n",
       "      <td>52.0</td>\n",
       "      <td>6.281853</td>\n",
       "      <td>1.081081</td>\n",
       "      <td>565.0</td>\n",
       "      <td>2.181467</td>\n",
       "      <td>37.85</td>\n",
       "      <td>-122.25</td>\n",
       "      <td>3.422</td>\n",
       "    </tr>\n",
       "  </tbody>\n",
       "</table>\n",
       "</div>"
      ],
      "text/plain": [
       "   MedInc  HouseAge  AveRooms  AveBedrms  Population  AveOccup  Latitude  \\\n",
       "0  8.3252      41.0  6.984127   1.023810       322.0  2.555556     37.88   \n",
       "1  8.3014      21.0  6.238137   0.971880      2401.0  2.109842     37.86   \n",
       "2  7.2574      52.0  8.288136   1.073446       496.0  2.802260     37.85   \n",
       "3  5.6431      52.0  5.817352   1.073059       558.0  2.547945     37.85   \n",
       "4  3.8462      52.0  6.281853   1.081081       565.0  2.181467     37.85   \n",
       "\n",
       "   Longitude  MedHouseVal  \n",
       "0    -122.23        4.526  \n",
       "1    -122.22        3.585  \n",
       "2    -122.24        3.521  \n",
       "3    -122.25        3.413  \n",
       "4    -122.25        3.422  "
      ]
     },
     "execution_count": 4,
     "metadata": {},
     "output_type": "execute_result"
    }
   ],
   "source": [
    "# データセットの読み込み\n",
    "california_housing = fetch_california_housing(as_frame=True)\n",
    "df = california_housing.frame\n",
    "df.head()"
   ]
  },
  {
   "cell_type": "code",
   "execution_count": 5,
   "metadata": {
    "colab": {
     "base_uri": "https://localhost:8080/"
    },
    "executionInfo": {
     "elapsed": 2,
     "status": "ok",
     "timestamp": 1685443304143,
     "user": {
      "displayName": "毛利拓也",
      "userId": "17854120745961292401"
     },
     "user_tz": -540
    },
    "id": "1dFw6_MqaMd1",
    "outputId": "00838d0b-1cfb-4e48-dea1-3e6824ab2bda"
   },
   "outputs": [
    {
     "name": "stdout",
     "output_type": "stream",
     "text": [
      "X_train:    MedInc\n",
      "0  8.3252\n",
      "1  8.3014\n",
      "2  7.2574\n",
      "y_train: 0    4.526\n",
      "1    3.585\n",
      "2    3.521\n",
      "Name: MedHouseVal, dtype: float64\n"
     ]
    }
   ],
   "source": [
    "# 特徴量と目的変数の設定\n",
    "X_train = df.loc[:99, ['MedInc']] # 特徴量にMedInc（世帯所得）を設定\n",
    "y_train = df.loc[:99, 'MedHouseVal'] # 正解値にMedHouseVal（住宅価格）を設定\n",
    "print('X_train:', X_train[:3])\n",
    "print('y_train:', y_train[:3])"
   ]
  },
  {
   "cell_type": "code",
   "execution_count": 6,
   "metadata": {
    "colab": {
     "base_uri": "https://localhost:8080/"
    },
    "executionInfo": {
     "elapsed": 4,
     "status": "ok",
     "timestamp": 1685443308075,
     "user": {
      "displayName": "毛利拓也",
      "userId": "17854120745961292401"
     },
     "user_tz": -540
    },
    "id": "0w9jc7euMAGk",
    "outputId": "b2898249-adbc-4f21-84b9-3890e973cdfe"
   },
   "outputs": [
    {
     "data": {
      "text/plain": [
       "{'copy_X': True, 'fit_intercept': True, 'n_jobs': None, 'positive': False}"
      ]
     },
     "execution_count": 6,
     "metadata": {},
     "output_type": "execute_result"
    }
   ],
   "source": [
    "# モデルの学習\n",
    "from sklearn.linear_model import LinearRegression\n",
    "\n",
    "model = LinearRegression() # 線形回帰モデル\n",
    "model.fit(X_train, y_train)\n",
    "model.get_params()"
   ]
  },
  {
   "cell_type": "code",
   "execution_count": 7,
   "metadata": {
    "colab": {
     "base_uri": "https://localhost:8080/"
    },
    "executionInfo": {
     "elapsed": 4,
     "status": "ok",
     "timestamp": 1685443309937,
     "user": {
      "displayName": "毛利拓也",
      "userId": "17854120745961292401"
     },
     "user_tz": -540
    },
    "id": "sL9hMtotKqgF",
    "outputId": "35617b41-ace9-45d2-c2d8-8c61736d1be7"
   },
   "outputs": [
    {
     "data": {
      "text/plain": [
       "array([3.62763539, 3.61946596, 3.26110923, 2.70699499, 2.09020264,\n",
       "       2.15562677, 2.0259799 , 1.8409319 , 1.48408549, 2.03699834,\n",
       "       1.86945627, 1.89259156, 1.82548549, 1.6877035 , 1.42789488,\n",
       "       1.4993946 , 1.72250942, 1.49774698, 1.45343294, 1.66357278,\n",
       "       1.23605045, 1.35814575, 1.36209317, 1.51847949, 1.66244004,\n",
       "       1.59509369, 1.61428157, 1.39058321, 1.33374042, 1.34922116,\n",
       "       1.43156769, 1.44327264, 1.3867731 , 1.24195442, 1.70716598,\n",
       "       1.28008989, 1.14659857, 1.25407127, 1.96450318, 1.65893886,\n",
       "       1.4900581 , 1.21113025, 1.12181567, 2.13074089, 1.80403214,\n",
       "       1.68880192, 1.46541249, 1.36545705, 1.0962776 , 1.37925584,\n",
       "       1.0863919 , 1.28640575, 1.15126682, 1.19818959, 1.32255035,\n",
       "       1.25441452, 1.28681766, 1.05048757, 1.18775468, 1.64956803,\n",
       "       1.9346058 , 2.87010908, 1.07928655, 1.17879576, 1.66031187,\n",
       "       1.1704547 , 1.04650583, 1.66566663, 1.40554907, 1.10643791,\n",
       "       1.37819176, 1.02007531, 1.37067451, 0.94157322, 1.62227937,\n",
       "       1.08718138, 1.60971629, 1.1513698 , 1.04547607, 1.46040099,\n",
       "       1.28486111, 1.1704547 , 1.29200079, 1.04715801, 1.39085782,\n",
       "       1.59663833, 1.10533949, 1.03085347, 1.10369188, 1.19678225,\n",
       "       1.48868508, 1.06751295, 1.02742093, 1.67459122, 1.40421038,\n",
       "       1.45978313, 1.742933  , 1.45861607, 1.18823523, 1.66600988])"
      ]
     },
     "execution_count": 7,
     "metadata": {},
     "output_type": "execute_result"
    }
   ],
   "source": [
    "# 予測値\n",
    "model.predict(X_train)"
   ]
  },
  {
   "cell_type": "code",
   "execution_count": null,
   "metadata": {},
   "outputs": [],
   "source": []
  },
  {
   "cell_type": "code",
   "execution_count": 8,
   "metadata": {
    "colab": {
     "base_uri": "https://localhost:8080/",
     "height": 466
    },
    "executionInfo": {
     "elapsed": 414,
     "status": "ok",
     "timestamp": 1685443312607,
     "user": {
      "displayName": "毛利拓也",
      "userId": "17854120745961292401"
     },
     "user_tz": -540
    },
    "id": "BTOo3xzfaD0C",
    "outputId": "c629c502-b4db-41bf-c4e4-a56a33e2313a"
   },
   "outputs": [
    {
     "data": {
      "image/png": "[encoded data removed]",
      "text/plain": [
       "<Figure size 800x400 with 1 Axes>"
      ]
     },
     "metadata": {},
     "output_type": "display_data"
    }
   ],
   "source": [
    "# データと予測値の可視化\n",
    "plt.figure(figsize=(8, 4)) #プロットのサイズ指定\n",
    "X = X_train.values.flatten() # numpy配列に変換し、1次元配列に変換\n",
    "y = y_train.values # numpy配列に変換\n",
    "\n",
    "# Xの最小値から最大値まで0.01刻みのX_pltを作成し、2次元配列に変換\n",
    "X_plt = pd.DataFrame({'MedInc': np.arange(X.min(), X.max(), 0.01)})\n",
    "y_pred = model.predict(X_plt) # 住宅価格を予測\n",
    "\n",
    "# 学習データ(平均部屋数と住宅価格)の散布図と予測値のプロット\n",
    "plt.scatter(X, y, color='blue', label='data')\n",
    "plt.plot(X_plt, y_pred, color='red', label='LinearRegression')\n",
    "plt.ylabel('Price in $100,000s [MedHouseVal]')\n",
    "plt.xlabel('median income in block group [MedInc]')\n",
    "plt.title('California house-prices')\n",
    "plt.legend(loc='upper right')\n",
    "plt.show()"
   ]
  },
  {
   "cell_type": "code",
   "execution_count": 9,
   "metadata": {
    "colab": {
     "base_uri": "https://localhost:8080/"
    },
    "executionInfo": {
     "elapsed": 6,
     "status": "ok",
     "timestamp": 1685443312608,
     "user": {
      "displayName": "毛利拓也",
      "userId": "17854120745961292401"
     },
     "user_tz": -540
    },
    "id": "Qluk_qA1OUvZ",
    "outputId": "f6923d93-a112-4f58-e234-503f525a71b6"
   },
   "outputs": [
    {
     "name": "stdout",
     "output_type": "stream",
     "text": [
      "傾き w1: 0.3432535718530862\n",
      "切片 w0: 0.7699807549504893\n"
     ]
    }
   ],
   "source": [
    "# パラメータ\n",
    "print('傾き w1:', model.coef_[0])\n",
    "print('切片 w0:', model.intercept_) "
   ]
  },
  {
   "cell_type": "code",
   "execution_count": null,
   "metadata": {
    "id": "F3hg_xl0sxhj"
   },
   "outputs": [],
   "source": []
  }
 ],
 "metadata": {
  "colab": {
   "provenance": []
  },
  "kernelspec": {
   "display_name": ".venv",
   "language": "python",
   "name": "python3"
  },
  "language_info": {
   "codemirror_mode": {
    "name": "ipython",
    "version": 3
   },
   "file_extension": ".py",
   "mimetype": "text/x-python",
   "name": "python",
   "nbconvert_exporter": "python",
   "pygments_lexer": "ipython3",
   "version": "3.10.12"
  }
 },
 "nbformat": 4,
 "nbformat_minor": 4
}
