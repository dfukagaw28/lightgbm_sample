{
 "cells": [
  {
   "cell_type": "markdown",
   "metadata": {
    "id": "17jbiJgUIdVH"
   },
   "source": [
    "# 回帰木（特徴量：ALL、max_depth=4）の学習→予測→評価"
   ]
  },
  {
   "cell_type": "code",
   "execution_count": 1,
   "metadata": {
    "id": "KjYDZ4IJ5445"
   },
   "outputs": [],
   "source": [
    "# # Colabでバージョンを変更するとき、コメントアウトして実行してください\n",
    "# !pip install pandas==1.5.3\n",
    "# !pip install numpy==1.22.4\n",
    "# !pip install matplotlib==3.7.1\n",
    "# !pip install graphviz==0.20.1\n",
    "# !pip install scikit-learn==1.2.2"
   ]
  },
  {
   "cell_type": "code",
   "execution_count": 2,
   "metadata": {
    "id": "q2p1g_5H7CeY"
   },
   "outputs": [],
   "source": [
    "# ライブラリのインポート\n",
    "%matplotlib inline\n",
    "import pandas as pd\n",
    "import numpy as np\n",
    "import matplotlib.pyplot as plt\n",
    "import graphviz\n",
    "from sklearn.datasets import fetch_california_housing\n",
    "from sklearn.model_selection import train_test_split\n",
    "from sklearn.metrics import mean_squared_error"
   ]
  },
  {
   "cell_type": "code",
   "execution_count": 3,
   "metadata": {
    "colab": {
     "base_uri": "https://localhost:8080/"
    },
    "executionInfo": {
     "elapsed": 7,
     "status": "ok",
     "timestamp": 1685443366632,
     "user": {
      "displayName": "毛利拓也",
      "userId": "17854120745961292401"
     },
     "user_tz": -540
    },
    "id": "25kqQ0VS54y_",
    "outputId": "ff14410e-f85a-48b8-c8c0-ab776df374a1"
   },
   "outputs": [
    {
     "name": "stdout",
     "output_type": "stream",
     "text": [
      "1.5.3\n",
      "1.22.4\n",
      "3.7.1\n",
      "0.20.1\n",
      "1.2.2\n"
     ]
    }
   ],
   "source": [
    "# バージョンの確認\n",
    "import matplotlib\n",
    "import sklearn\n",
    "print(pd.__version__) \n",
    "print(np.__version__)\n",
    "print(matplotlib.__version__)\n",
    "print(graphviz.__version__)\n",
    "print(sklearn.__version__) "
   ]
  },
  {
   "cell_type": "code",
   "execution_count": 4,
   "metadata": {
    "id": "V2Uq-vxd-n8G"
   },
   "outputs": [],
   "source": [
    "# データセットの読み込み\n",
    "california_housing = fetch_california_housing(as_frame=True)\n",
    "df = california_housing.frame\n",
    "#df.head()"
   ]
  },
  {
   "cell_type": "code",
   "execution_count": 5,
   "metadata": {
    "id": "8JSOrIFy--8e"
   },
   "outputs": [],
   "source": [
    "# 特徴量と目的変数の設定\n",
    "X = df.drop(['MedHouseVal'], axis=1)\n",
    "y = df['MedHouseVal']"
   ]
  },
  {
   "cell_type": "code",
   "execution_count": 6,
   "metadata": {
    "colab": {
     "base_uri": "https://localhost:8080/"
    },
    "executionInfo": {
     "elapsed": 4,
     "status": "ok",
     "timestamp": 1685443388507,
     "user": {
      "displayName": "毛利拓也",
      "userId": "17854120745961292401"
     },
     "user_tz": -540
    },
    "id": "InTlO8HO7Sq3",
    "outputId": "18d702d2-9023-43ff-c014-9c535fe055c1"
   },
   "outputs": [
    {
     "name": "stdout",
     "output_type": "stream",
     "text": [
      "X_trainの形状： (16512, 8)  y_trainの形状： (16512,)  X_testの形状： (4128, 8)  y_testの形状： (4128,)\n"
     ]
    }
   ],
   "source": [
    "# 学習データとテストデータに分割\n",
    "X_train, X_test, y_train, y_test = train_test_split(X, y, test_size=0.2, shuffle=True, random_state=0)\n",
    "print('X_trainの形状：', X_train.shape, ' y_trainの形状：', y_train.shape, ' X_testの形状：', X_test.shape, ' y_testの形状：', y_test.shape)"
   ]
  },
  {
   "cell_type": "code",
   "execution_count": 7,
   "metadata": {
    "colab": {
     "base_uri": "https://localhost:8080/"
    },
    "executionInfo": {
     "elapsed": 297,
     "status": "ok",
     "timestamp": 1685443391330,
     "user": {
      "displayName": "毛利拓也",
      "userId": "17854120745961292401"
     },
     "user_tz": -540
    },
    "id": "pANzCt3X-0_D",
    "outputId": "31068da0-2805-4d30-a548-db2affa67d2d"
   },
   "outputs": [
    {
     "data": {
      "text/plain": [
       "{'ccp_alpha': 0.05,\n",
       " 'criterion': 'squared_error',\n",
       " 'max_depth': 3,\n",
       " 'max_features': None,\n",
       " 'max_leaf_nodes': None,\n",
       " 'min_impurity_decrease': 0.0,\n",
       " 'min_samples_leaf': 10,\n",
       " 'min_samples_split': 2,\n",
       " 'min_weight_fraction_leaf': 0.0,\n",
       " 'random_state': 0,\n",
       " 'splitter': 'best'}"
      ]
     },
     "execution_count": 7,
     "metadata": {},
     "output_type": "execute_result"
    }
   ],
   "source": [
    " # モデルの学習\n",
    "from sklearn.tree import DecisionTreeRegressor\n",
    "\n",
    "model = DecisionTreeRegressor(criterion='squared_error', max_depth=3, min_samples_leaf=10, ccp_alpha=0.05, random_state=0)  # 深さ4の回帰木モデル\n",
    "model.fit(X_train, y_train)\n",
    "model.get_params()"
   ]
  },
  {
   "cell_type": "code",
   "execution_count": 8,
   "metadata": {
    "colab": {
     "base_uri": "https://localhost:8080/"
    },
    "executionInfo": {
     "elapsed": 260,
     "status": "ok",
     "timestamp": 1685443403984,
     "user": {
      "displayName": "毛利拓也",
      "userId": "17854120745961292401"
     },
     "user_tz": -540
    },
    "id": "1HEtv6wOjtdX",
    "outputId": "5fa07ef7-e58f-425a-cdbb-3f5af875b2b5"
   },
   "outputs": [
    {
     "name": "stdout",
     "output_type": "stream",
     "text": [
      "RMSE test: 0.84\n"
     ]
    }
   ],
   "source": [
    "# テストデータの予測と評価\n",
    "y_test_pred = model.predict(X_test)\n",
    "print('RMSE test: %.2f' % (mean_squared_error(y_test, y_test_pred) ** 0.5))"
   ]
  },
  {
   "cell_type": "code",
   "execution_count": 9,
   "metadata": {
    "colab": {
     "base_uri": "https://localhost:8080/"
    },
    "executionInfo": {
     "elapsed": 287,
     "status": "ok",
     "timestamp": 1685443409537,
     "user": {
      "displayName": "毛利拓也",
      "userId": "17854120745961292401"
     },
     "user_tz": -540
    },
    "id": "bOl9p69qHOM6",
    "outputId": "a8156867-1a29-44f6-a6a7-e53cdc92f4a9"
   },
   "outputs": [
    {
     "data": {
      "text/plain": [
       "array([1.87727065, 2.92125701, 1.87727065, ..., 1.87727065, 2.92125701,\n",
       "       1.87727065])"
      ]
     },
     "execution_count": 9,
     "metadata": {},
     "output_type": "execute_result"
    }
   ],
   "source": [
    "# 予測値\n",
    "model.predict(X_test)"
   ]
  },
  {
   "cell_type": "code",
   "execution_count": 10,
   "metadata": {
    "colab": {
     "base_uri": "https://localhost:8080/",
     "height": 380
    },
    "executionInfo": {
     "elapsed": 287,
     "status": "ok",
     "timestamp": 1685443414672,
     "user": {
      "displayName": "毛利拓也",
      "userId": "17854120745961292401"
     },
     "user_tz": -540
    },
    "id": "ca1e0uWbhm-_",
    "outputId": "f22fb80e-74f0-4017-9cf8-f8c741b2a6bb"
   },
   "outputs": [
    {
     "data": {
      "image/svg+xml": [
       "<?xml version=\"1.0\" encoding=\"UTF-8\" standalone=\"no\"?>\n",
       "<!DOCTYPE svg PUBLIC \"-//W3C//DTD SVG 1.1//EN\"\n",
       " \"http://www.w3.org/Graphics/SVG/1.1/DTD/svg11.dtd\">\n",
       "<!-- Generated by graphviz version 2.43.0 (0)\n",
       " -->\n",
       "<!-- Title: Tree Pages: 1 -->\n",
       "<svg width=\"758pt\" height=\"373pt\"\n",
       " viewBox=\"0.00 0.00 758.00 373.00\" xmlns=\"http://www.w3.org/2000/svg\" xmlns:xlink=\"http://www.w3.org/1999/xlink\">\n",
       "<g id=\"graph0\" class=\"graph\" transform=\"scale(1 1) rotate(0) translate(4 369)\">\n",
       "<title>Tree</title>\n",
       "<polygon fill=\"white\" stroke=\"transparent\" points=\"-4,4 -4,-369 754,-369 754,4 -4,4\"/>\n",
       "<!-- 0 -->\n",
       "<g id=\"node1\" class=\"node\">\n",
       "<title>0</title>\n",
       "<path fill=\"#f8dfcd\" stroke=\"black\" d=\"M450,-365C450,-365 300,-365 300,-365 294,-365 288,-359 288,-353 288,-353 288,-309 288,-309 288,-303 294,-297 300,-297 300,-297 450,-297 450,-297 456,-297 462,-303 462,-309 462,-309 462,-353 462,-353 462,-359 456,-365 450,-365\"/>\n",
       "<text text-anchor=\"middle\" x=\"375\" y=\"-349.8\" font-family=\"Helvetica,sans-Serif\" font-size=\"14.00\">MedInc &lt;= 5.029</text>\n",
       "<text text-anchor=\"middle\" x=\"375\" y=\"-334.8\" font-family=\"Helvetica,sans-Serif\" font-size=\"14.00\">squared_error = 1.338</text>\n",
       "<text text-anchor=\"middle\" x=\"375\" y=\"-319.8\" font-family=\"Helvetica,sans-Serif\" font-size=\"14.00\">samples = 16512</text>\n",
       "<text text-anchor=\"middle\" x=\"375\" y=\"-304.8\" font-family=\"Helvetica,sans-Serif\" font-size=\"14.00\">value = 2.072</text>\n",
       "</g>\n",
       "<!-- 1 -->\n",
       "<g id=\"node2\" class=\"node\">\n",
       "<title>1</title>\n",
       "<path fill=\"#fceee5\" stroke=\"black\" d=\"M354,-261C354,-261 204,-261 204,-261 198,-261 192,-255 192,-249 192,-249 192,-205 192,-205 192,-199 198,-193 204,-193 204,-193 354,-193 354,-193 360,-193 366,-199 366,-205 366,-205 366,-249 366,-249 366,-255 360,-261 354,-261\"/>\n",
       "<text text-anchor=\"middle\" x=\"279\" y=\"-245.8\" font-family=\"Helvetica,sans-Serif\" font-size=\"14.00\">MedInc &lt;= 3.074</text>\n",
       "<text text-anchor=\"middle\" x=\"279\" y=\"-230.8\" font-family=\"Helvetica,sans-Serif\" font-size=\"14.00\">squared_error = 0.833</text>\n",
       "<text text-anchor=\"middle\" x=\"279\" y=\"-215.8\" font-family=\"Helvetica,sans-Serif\" font-size=\"14.00\">samples = 12979</text>\n",
       "<text text-anchor=\"middle\" x=\"279\" y=\"-200.8\" font-family=\"Helvetica,sans-Serif\" font-size=\"14.00\">value = 1.733</text>\n",
       "</g>\n",
       "<!-- 0&#45;&gt;1 -->\n",
       "<g id=\"edge1\" class=\"edge\">\n",
       "<title>0&#45;&gt;1</title>\n",
       "<path fill=\"none\" stroke=\"black\" d=\"M343.83,-296.88C335.36,-287.89 326.1,-278.04 317.29,-268.68\"/>\n",
       "<polygon fill=\"black\" stroke=\"black\" points=\"319.74,-266.18 310.34,-261.3 314.65,-270.98 319.74,-266.18\"/>\n",
       "<text text-anchor=\"middle\" x=\"309.58\" y=\"-282.59\" font-family=\"Helvetica,sans-Serif\" font-size=\"14.00\">True</text>\n",
       "</g>\n",
       "<!-- 6 -->\n",
       "<g id=\"node7\" class=\"node\">\n",
       "<title>6</title>\n",
       "<path fill=\"#eda977\" stroke=\"black\" d=\"M546,-261C546,-261 396,-261 396,-261 390,-261 384,-255 384,-249 384,-249 384,-205 384,-205 384,-199 390,-193 396,-193 396,-193 546,-193 546,-193 552,-193 558,-199 558,-205 558,-205 558,-249 558,-249 558,-255 552,-261 546,-261\"/>\n",
       "<text text-anchor=\"middle\" x=\"471\" y=\"-245.8\" font-family=\"Helvetica,sans-Serif\" font-size=\"14.00\">MedInc &lt;= 6.82</text>\n",
       "<text text-anchor=\"middle\" x=\"471\" y=\"-230.8\" font-family=\"Helvetica,sans-Serif\" font-size=\"14.00\">squared_error = 1.218</text>\n",
       "<text text-anchor=\"middle\" x=\"471\" y=\"-215.8\" font-family=\"Helvetica,sans-Serif\" font-size=\"14.00\">samples = 3533</text>\n",
       "<text text-anchor=\"middle\" x=\"471\" y=\"-200.8\" font-family=\"Helvetica,sans-Serif\" font-size=\"14.00\">value = 3.319</text>\n",
       "</g>\n",
       "<!-- 0&#45;&gt;6 -->\n",
       "<g id=\"edge6\" class=\"edge\">\n",
       "<title>0&#45;&gt;6</title>\n",
       "<path fill=\"none\" stroke=\"black\" d=\"M406.17,-296.88C414.64,-287.89 423.9,-278.04 432.71,-268.68\"/>\n",
       "<polygon fill=\"black\" stroke=\"black\" points=\"435.35,-270.98 439.66,-261.3 430.26,-266.18 435.35,-270.98\"/>\n",
       "<text text-anchor=\"middle\" x=\"440.42\" y=\"-282.59\" font-family=\"Helvetica,sans-Serif\" font-size=\"14.00\">False</text>\n",
       "</g>\n",
       "<!-- 2 -->\n",
       "<g id=\"node3\" class=\"node\">\n",
       "<title>2</title>\n",
       "<path fill=\"#ffffff\" stroke=\"black\" d=\"M162,-149.5C162,-149.5 12,-149.5 12,-149.5 6,-149.5 0,-143.5 0,-137.5 0,-137.5 0,-108.5 0,-108.5 0,-102.5 6,-96.5 12,-96.5 12,-96.5 162,-96.5 162,-96.5 168,-96.5 174,-102.5 174,-108.5 174,-108.5 174,-137.5 174,-137.5 174,-143.5 168,-149.5 162,-149.5\"/>\n",
       "<text text-anchor=\"middle\" x=\"87\" y=\"-134.3\" font-family=\"Helvetica,sans-Serif\" font-size=\"14.00\">squared_error = 0.545</text>\n",
       "<text text-anchor=\"middle\" x=\"87\" y=\"-119.3\" font-family=\"Helvetica,sans-Serif\" font-size=\"14.00\">samples = 6272</text>\n",
       "<text text-anchor=\"middle\" x=\"87\" y=\"-104.3\" font-family=\"Helvetica,sans-Serif\" font-size=\"14.00\">value = 1.35</text>\n",
       "</g>\n",
       "<!-- 1&#45;&gt;2 -->\n",
       "<g id=\"edge2\" class=\"edge\">\n",
       "<title>1&#45;&gt;2</title>\n",
       "<path fill=\"none\" stroke=\"black\" d=\"M216.66,-192.88C193.27,-180.46 166.82,-166.41 143.94,-154.25\"/>\n",
       "<polygon fill=\"black\" stroke=\"black\" points=\"145.51,-151.12 135.04,-149.52 142.23,-157.3 145.51,-151.12\"/>\n",
       "</g>\n",
       "<!-- 3 -->\n",
       "<g id=\"node4\" class=\"node\">\n",
       "<title>3</title>\n",
       "<path fill=\"#f8decc\" stroke=\"black\" d=\"M354,-157C354,-157 204,-157 204,-157 198,-157 192,-151 192,-145 192,-145 192,-101 192,-101 192,-95 198,-89 204,-89 204,-89 354,-89 354,-89 360,-89 366,-95 366,-101 366,-101 366,-145 366,-145 366,-151 360,-157 354,-157\"/>\n",
       "<text text-anchor=\"middle\" x=\"279\" y=\"-141.8\" font-family=\"Helvetica,sans-Serif\" font-size=\"14.00\">AveOccup &lt;= 2.373</text>\n",
       "<text text-anchor=\"middle\" x=\"279\" y=\"-126.8\" font-family=\"Helvetica,sans-Serif\" font-size=\"14.00\">squared_error = 0.836</text>\n",
       "<text text-anchor=\"middle\" x=\"279\" y=\"-111.8\" font-family=\"Helvetica,sans-Serif\" font-size=\"14.00\">samples = 6707</text>\n",
       "<text text-anchor=\"middle\" x=\"279\" y=\"-96.8\" font-family=\"Helvetica,sans-Serif\" font-size=\"14.00\">value = 2.092</text>\n",
       "</g>\n",
       "<!-- 1&#45;&gt;3 -->\n",
       "<g id=\"edge3\" class=\"edge\">\n",
       "<title>1&#45;&gt;3</title>\n",
       "<path fill=\"none\" stroke=\"black\" d=\"M279,-192.88C279,-184.78 279,-175.98 279,-167.47\"/>\n",
       "<polygon fill=\"black\" stroke=\"black\" points=\"282.5,-167.3 279,-157.3 275.5,-167.3 282.5,-167.3\"/>\n",
       "</g>\n",
       "<!-- 4 -->\n",
       "<g id=\"node5\" class=\"node\">\n",
       "<title>4</title>\n",
       "<path fill=\"#f2c09c\" stroke=\"black\" d=\"M258,-53C258,-53 108,-53 108,-53 102,-53 96,-47 96,-41 96,-41 96,-12 96,-12 96,-6 102,0 108,0 108,0 258,0 258,0 264,0 270,-6 270,-12 270,-12 270,-41 270,-41 270,-47 264,-53 258,-53\"/>\n",
       "<text text-anchor=\"middle\" x=\"183\" y=\"-37.8\" font-family=\"Helvetica,sans-Serif\" font-size=\"14.00\">squared_error = 1.281</text>\n",
       "<text text-anchor=\"middle\" x=\"183\" y=\"-22.8\" font-family=\"Helvetica,sans-Serif\" font-size=\"14.00\">samples = 1574</text>\n",
       "<text text-anchor=\"middle\" x=\"183\" y=\"-7.8\" font-family=\"Helvetica,sans-Serif\" font-size=\"14.00\">value = 2.792</text>\n",
       "</g>\n",
       "<!-- 3&#45;&gt;4 -->\n",
       "<g id=\"edge4\" class=\"edge\">\n",
       "<title>3&#45;&gt;4</title>\n",
       "<path fill=\"none\" stroke=\"black\" d=\"M245.42,-88.95C236.04,-79.71 225.84,-69.67 216.46,-60.44\"/>\n",
       "<polygon fill=\"black\" stroke=\"black\" points=\"218.73,-57.76 209.15,-53.24 213.82,-62.75 218.73,-57.76\"/>\n",
       "</g>\n",
       "<!-- 5 -->\n",
       "<g id=\"node6\" class=\"node\">\n",
       "<title>5</title>\n",
       "<path fill=\"#fae8db\" stroke=\"black\" d=\"M450,-53C450,-53 300,-53 300,-53 294,-53 288,-47 288,-41 288,-41 288,-12 288,-12 288,-6 294,0 300,0 300,0 450,0 450,0 456,0 462,-6 462,-12 462,-12 462,-41 462,-41 462,-47 456,-53 450,-53\"/>\n",
       "<text text-anchor=\"middle\" x=\"375\" y=\"-37.8\" font-family=\"Helvetica,sans-Serif\" font-size=\"14.00\">squared_error = 0.503</text>\n",
       "<text text-anchor=\"middle\" x=\"375\" y=\"-22.8\" font-family=\"Helvetica,sans-Serif\" font-size=\"14.00\">samples = 5133</text>\n",
       "<text text-anchor=\"middle\" x=\"375\" y=\"-7.8\" font-family=\"Helvetica,sans-Serif\" font-size=\"14.00\">value = 1.877</text>\n",
       "</g>\n",
       "<!-- 3&#45;&gt;5 -->\n",
       "<g id=\"edge5\" class=\"edge\">\n",
       "<title>3&#45;&gt;5</title>\n",
       "<path fill=\"none\" stroke=\"black\" d=\"M312.58,-88.95C321.96,-79.71 332.16,-69.67 341.54,-60.44\"/>\n",
       "<polygon fill=\"black\" stroke=\"black\" points=\"344.18,-62.75 348.85,-53.24 339.27,-57.76 344.18,-62.75\"/>\n",
       "</g>\n",
       "<!-- 7 -->\n",
       "<g id=\"node8\" class=\"node\">\n",
       "<title>7</title>\n",
       "<path fill=\"#f1ba93\" stroke=\"black\" d=\"M546,-149.5C546,-149.5 396,-149.5 396,-149.5 390,-149.5 384,-143.5 384,-137.5 384,-137.5 384,-108.5 384,-108.5 384,-102.5 390,-96.5 396,-96.5 396,-96.5 546,-96.5 546,-96.5 552,-96.5 558,-102.5 558,-108.5 558,-108.5 558,-137.5 558,-137.5 558,-143.5 552,-149.5 546,-149.5\"/>\n",
       "<text text-anchor=\"middle\" x=\"471\" y=\"-134.3\" font-family=\"Helvetica,sans-Serif\" font-size=\"14.00\">squared_error = 0.891</text>\n",
       "<text text-anchor=\"middle\" x=\"471\" y=\"-119.3\" font-family=\"Helvetica,sans-Serif\" font-size=\"14.00\">samples = 2453</text>\n",
       "<text text-anchor=\"middle\" x=\"471\" y=\"-104.3\" font-family=\"Helvetica,sans-Serif\" font-size=\"14.00\">value = 2.921</text>\n",
       "</g>\n",
       "<!-- 6&#45;&gt;7 -->\n",
       "<g id=\"edge7\" class=\"edge\">\n",
       "<title>6&#45;&gt;7</title>\n",
       "<path fill=\"none\" stroke=\"black\" d=\"M471,-192.88C471,-182.33 471,-170.6 471,-159.85\"/>\n",
       "<polygon fill=\"black\" stroke=\"black\" points=\"474.5,-159.52 471,-149.52 467.5,-159.52 474.5,-159.52\"/>\n",
       "</g>\n",
       "<!-- 8 -->\n",
       "<g id=\"node9\" class=\"node\">\n",
       "<title>8</title>\n",
       "<path fill=\"#e58139\" stroke=\"black\" d=\"M738,-149.5C738,-149.5 588,-149.5 588,-149.5 582,-149.5 576,-143.5 576,-137.5 576,-137.5 576,-108.5 576,-108.5 576,-102.5 582,-96.5 588,-96.5 588,-96.5 738,-96.5 738,-96.5 744,-96.5 750,-102.5 750,-108.5 750,-108.5 750,-137.5 750,-137.5 750,-143.5 744,-149.5 738,-149.5\"/>\n",
       "<text text-anchor=\"middle\" x=\"663\" y=\"-134.3\" font-family=\"Helvetica,sans-Serif\" font-size=\"14.00\">squared_error = 0.787</text>\n",
       "<text text-anchor=\"middle\" x=\"663\" y=\"-119.3\" font-family=\"Helvetica,sans-Serif\" font-size=\"14.00\">samples = 1080</text>\n",
       "<text text-anchor=\"middle\" x=\"663\" y=\"-104.3\" font-family=\"Helvetica,sans-Serif\" font-size=\"14.00\">value = 4.222</text>\n",
       "</g>\n",
       "<!-- 6&#45;&gt;8 -->\n",
       "<g id=\"edge8\" class=\"edge\">\n",
       "<title>6&#45;&gt;8</title>\n",
       "<path fill=\"none\" stroke=\"black\" d=\"M533.34,-192.88C556.73,-180.46 583.18,-166.41 606.06,-154.25\"/>\n",
       "<polygon fill=\"black\" stroke=\"black\" points=\"607.77,-157.3 614.96,-149.52 604.49,-151.12 607.77,-157.3\"/>\n",
       "</g>\n",
       "</g>\n",
       "</svg>\n"
      ],
      "text/plain": [
       "<graphviz.sources.Source at 0x7fe41e89a5c0>"
      ]
     },
     "execution_count": 10,
     "metadata": {},
     "output_type": "execute_result"
    }
   ],
   "source": [
    "# 木の可視化\n",
    "from sklearn import tree\n",
    "\n",
    "dot_data = tree.export_graphviz(model, out_file=None, rounded=True, feature_names=X.columns, filled=True)\n",
    "graphviz.Source(dot_data, format='png')"
   ]
  },
  {
   "cell_type": "code",
   "execution_count": 11,
   "metadata": {
    "colab": {
     "base_uri": "https://localhost:8080/",
     "height": 434
    },
    "executionInfo": {
     "elapsed": 611,
     "status": "ok",
     "timestamp": 1685443422431,
     "user": {
      "displayName": "毛利拓也",
      "userId": "17854120745961292401"
     },
     "user_tz": -540
    },
    "id": "3quZmrGfExZm",
    "outputId": "0b1e7b31-2e14-4cc4-d879-ea5bdd92a467"
   },
   "outputs": [
    {
     "data": {
      "image/png": "[encoded data removed]",
      "text/plain": [
       "<Figure size 800x400 with 1 Axes>"
      ]
     },
     "metadata": {},
     "output_type": "display_data"
    }
   ],
   "source": [
    "# 特徴量の重要度の可視化\n",
    "importances = model.feature_importances_ # 特徴量の重要度\n",
    "indices = np.argsort(importances)[::-1] # 特徴量の重要度を降順にソート\n",
    "\n",
    "plt.figure(figsize=(8, 4)) #プロットのサイズ指定\n",
    "plt.title('Feature Importance') # プロットのタイトルを作成\n",
    "plt.bar(range(len(indices)), importances[indices]) # 棒グラフを追加\n",
    "plt.xticks(range(len(indices)), X.columns[indices], rotation=90) # X軸に特徴量の名前を追加\n",
    "plt.show() # プロットを表示"
   ]
  },
  {
   "cell_type": "code",
   "execution_count": null,
   "metadata": {
    "id": "tS56rr9QcTrD"
   },
   "outputs": [],
   "source": []
  }
 ],
 "metadata": {
  "colab": {
   "provenance": []
  },
  "kernelspec": {
   "display_name": ".venv",
   "language": "python",
   "name": "python3"
  },
  "language_info": {
   "codemirror_mode": {
    "name": "ipython",
    "version": 3
   },
   "file_extension": ".py",
   "mimetype": "text/x-python",
   "name": "python",
   "nbconvert_exporter": "python",
   "pygments_lexer": "ipython3",
   "version": "3.10.12"
  }
 },
 "nbformat": 4,
 "nbformat_minor": 4
}
